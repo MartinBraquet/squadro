{
 "cells": [
  {
   "cell_type": "code",
   "id": "e70cfe7d29e22e31",
   "metadata": {},
   "source": [
    "import matplotlib.pyplot as plt\n",
    "import pandas as pd\n",
    "import seaborn as sns\n",
    "import numpy as np"
   ],
   "outputs": [],
   "execution_count": null
  },
  {
   "metadata": {},
   "cell_type": "code",
   "source": [
    "from squadro.core.benchmarking import benchmark_agents\n",
    "\n",
    "results = {}\n",
    "\n",
    "# 5 games, 3 sec per move\n",
    "results['human'] = {\n",
    "    'random': 1 / 1,\n",
    "    'advancement': 1 / 1,\n",
    "    'relative_advancement': 1 / 1,\n",
    "    'ab_relative_advancement': 4 / 5,\n",
    "    'mcts_rollout': 0 / 5,\n",
    "    'mcts_advancement': 2 / 5,\n",
    "    'mcts_deep_q_learning': 1 / 5,\n",
    "}\n",
    "\n",
    "results = benchmark_agents([\n",
    "    'mcts_deep_q_learning',\n",
    "    'mcts_advancement',\n",
    "    'mcts_rollout',\n",
    "    'ab_relative_advancement',\n",
    "    'ab_relative_advancement',\n",
    "    'relative_advancement',\n",
    "    'advancement',\n",
    "    'random',\n",
    "],\n",
    "    # n_games=4,\n",
    "    # max_time_per_move=.01,\n",
    "    results=results,\n",
    ")\n",
    "results"
   ],
   "id": "initial_id",
   "outputs": [],
   "execution_count": null
  },
  {
   "metadata": {},
   "cell_type": "code",
   "source": [
    "# dump_pickle(results, 'results.pkl')\n",
    "# df = pd.read_csv('results_final.csv', index_col=0)\n",
    "df = pd.DataFrame(results).T\n",
    "df.insert(0, column=df.index[0], value=[pd.NA] * len(df))\n",
    "df = df[df.index]\n",
    "df.to_csv('results.csv')\n",
    "df"
   ],
   "id": "b4c36b03733076d",
   "outputs": [],
   "execution_count": null
  },
  {
   "metadata": {},
   "cell_type": "code",
   "source": [
    "df = df.infer_objects(copy=False).fillna(0)\n",
    "df_T = pd.DataFrame(np.tril(1 - df.T, k=-1), columns=df.columns, index=df.index)\n",
    "df = df + df_T\n",
    "for i in range(len(df)):\n",
    "    df.iloc[i, i] = pd.NA\n",
    "df"
   ],
   "id": "9cc12f288f9ff719",
   "outputs": [],
   "execution_count": null
  },
  {
   "metadata": {},
   "cell_type": "code",
   "source": [
    "try:\n",
    "    print(df.to_markdown())\n",
    "except Exception as e:\n",
    "    print(e)"
   ],
   "id": "a4f956a765ea1703",
   "outputs": [],
   "execution_count": null
  },
  {
   "metadata": {},
   "cell_type": "code",
   "source": [
    "df.columns = df.columns.str.replace('_', ' ')\n",
    "df.index = df.index.str.replace('_', ' ')\n",
    "plt.figure(\n",
    "    figsize=(8, 8)\n",
    ")\n",
    "sns.heatmap(df,\n",
    "            annot=True,  # Show values in cells\n",
    "            fmt='.2f',  # Format annotations to 2 decimal places\n",
    "            cmap=['red', 'green'],\n",
    "            square=True,  # Make cells square\n",
    "            cbar_kws={'label': 'Values'},  # Customize colorbar\n",
    "            linewidths=0.5,  # Add gridlines\n",
    "            center=0.5,\n",
    "            annot_kws=dict(weight='bold', size=12),\n",
    "            )  # Center the colormap\n",
    "plt.title('Pairwise Algorithm Evaluation', weight='bold', size=18)  # Bold title\n",
    "\n",
    "plt.xticks(weight='bold', size=12)\n",
    "plt.yticks(weight='bold', size=12)\n",
    "# plt.tight_layout()\n",
    "plt.savefig('benchmark.png',bbox_inches='tight', dpi=300)\n",
    "plt.show()\n",
    "beats = df > .5\n",
    "for i in range(len(beats)):\n",
    "    beats.iloc[i, i] = True\n",
    "beats.sum(1)"
   ],
   "id": "949d7080195f49cb",
   "outputs": [],
   "execution_count": null
  },
  {
   "metadata": {},
   "cell_type": "code",
   "source": [
    "best = beats.sum(1).idxmax()\n",
    "print('Best model:', best)"
   ],
   "id": "115c7d93667005de",
   "outputs": [],
   "execution_count": null
  }
 ],
 "metadata": {
  "kernelspec": {
   "display_name": "Python 3",
   "language": "python",
   "name": "python3"
  },
  "language_info": {
   "codemirror_mode": {
    "name": "ipython",
    "version": 2
   },
   "file_extension": ".py",
   "mimetype": "text/x-python",
   "name": "python",
   "nbconvert_exporter": "python",
   "pygments_lexer": "ipython2",
   "version": "2.7.6"
  }
 },
 "nbformat": 4,
 "nbformat_minor": 5
}
